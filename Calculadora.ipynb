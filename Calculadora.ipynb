{
  "nbformat": 4,
  "nbformat_minor": 0,
  "metadata": {
    "colab": {
      "provenance": []
    },
    "kernelspec": {
      "name": "python3",
      "display_name": "Python 3"
    },
    "language_info": {
      "name": "python"
    }
  },
  "cells": [
    {
      "cell_type": "code",
      "execution_count": null,
      "metadata": {
        "colab": {
          "base_uri": "https://localhost:8080/"
        },
        "id": "HdxAGkKZNxj_",
        "outputId": "d4d0d751-7834-44fb-ed53-d8e2470f5a70"
      },
      "outputs": [
        {
          "output_type": "stream",
          "name": "stdout",
          "text": [
            "Escriba un numero: 4\n",
            "Escriba otro numero: 16\n",
            "Los numeros son 4 y 16\n",
            "Las operaciones son:\n",
            "Suma\n",
            "Multiplicacion\n",
            "Division\n",
            "Resta\n",
            "¿Que operacion quiere realizar?Suma\n",
            "La suma es 20\n"
          ]
        }
      ],
      "source": [
        "numero_1 = input(\"Escriba un numero: \")\n",
        "numero_2 = input(\"Escriba otro numero: \")\n",
        "numero_1 = int(numero_1)\n",
        "numero_2 = int(numero_2)\n",
        "print(\"Los numeros son\", numero_1, \"y\", numero_2)\n",
        "print(\"Las operaciones son:\")\n",
        "print(\"Suma\")\n",
        "print(\"Multiplicacion\")\n",
        "print(\"Division\")\n",
        "print(\"Resta\")\n",
        "operacion = input(\"¿Que operacion quiere realizar?\")\n",
        "if operacion == \"Suma\":\n",
        "  suma = numero_1 + numero_2\n",
        "  print(\"La suma es\", suma)\n",
        "if operacion == \"Multiplicacion\":\n",
        "  multiplicacion = numero_1 * numero_2\n",
        "  print(\"La multiplicacion es\", multiplicacion)\n",
        "if operacion == \"Division\":\n",
        "  division = numero_1 / numero_2\n",
        "  print(\"La division es\", division)\n",
        "if operacion == \"Resta\":\n",
        "  resta = numero_1 - numero_2\n",
        "  print(\"La resta es\", resta)"
      ]
    }
  ]
}