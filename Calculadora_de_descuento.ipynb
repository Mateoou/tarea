{
  "nbformat": 4,
  "nbformat_minor": 0,
  "metadata": {
    "colab": {
      "provenance": []
    },
    "kernelspec": {
      "name": "python3",
      "display_name": "Python 3"
    },
    "language_info": {
      "name": "python"
    }
  },
  "cells": [
    {
      "cell_type": "code",
      "execution_count": null,
      "metadata": {
        "id": "NFNkpSjGa_mc",
        "colab": {
          "base_uri": "https://localhost:8080/"
        },
        "outputId": "ef597485-7e57-4d47-f655-e224eb936084"
      },
      "outputs": [
        {
          "output_type": "stream",
          "name": "stdout",
          "text": [
            "¿Cual es el precio del producto: 8000\n",
            "El precio del producto es:  8000\n",
            "¿cuanto es el descuento?30\n",
            "El precio final del producto es:  5600.0\n"
          ]
        }
      ],
      "source": [
        "precio = input(\"¿Cual es el precio del producto: \")\n",
        "precio_entero = int(precio)\n",
        "print(\"El precio del producto es: \", precio_entero)\n",
        "\n",
        "descuento = input(\"¿cuanto es el descuento?\")\n",
        "descuento_entero = int(descuento)\n",
        "precio_final = precio_entero - (precio_entero * (descuento_entero / 100))\n",
        "\n",
        "print(\"El precio final del producto es: \", precio_final)"
      ]
    }
  ]
}