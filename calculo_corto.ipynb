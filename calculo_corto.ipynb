{
  "nbformat": 4,
  "nbformat_minor": 0,
  "metadata": {
    "colab": {
      "provenance": []
    },
    "kernelspec": {
      "name": "python3",
      "display_name": "Python 3"
    },
    "language_info": {
      "name": "python"
    }
  },
  "cells": [
    {
      "cell_type": "code",
      "execution_count": null,
      "metadata": {
        "colab": {
          "base_uri": "https://localhost:8080/"
        },
        "id": "XUNIpJrTz7fa",
        "outputId": "b43972bb-1969-4ccc-b983-dfb9f723e996"
      },
      "outputs": [
        {
          "output_type": "stream",
          "name": "stdout",
          "text": [
            "¿Cual es su numero?: 52\n",
            "Su numero es:  52\n",
            "El resultado es:  55.5\n"
          ]
        }
      ],
      "source": [
        "numero = input(\"¿Cual es su numero?: \")\n",
        "numero_entero = int(numero)\n",
        "print(\"Su numero es: \", numero_entero)\n",
        "resultado = numero_entero + 5 - 3 * 2/4\n",
        "print(\"El resultado es: \", resultado)"
      ]
    }
  ]
}